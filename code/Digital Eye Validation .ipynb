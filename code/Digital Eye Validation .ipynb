{
 "cells": [
  {
   "cell_type": "code",
   "execution_count": 18,
   "id": "fe0b391b",
   "metadata": {},
   "outputs": [],
   "source": [
    "import pandas as pd\n",
    "import seaborn as sns\n",
    "import matplotlib.pyplot as plt\n",
    "import pandas as pd\n",
    "from sklearn.model_selection import train_test_split\n",
    "from sklearn.tree import DecisionTreeClassifier\n",
    "from sklearn.metrics import accuracy_score, classification_report, confusion_matrix\n",
    "from sklearn.preprocessing import LabelEncoder\n",
    "from sklearn import tree\n",
    "from sklearn.decomposition import PCA\n",
    "import pickle"
   ]
  },
  {
   "cell_type": "code",
   "execution_count": 20,
   "id": "1d137d9e",
   "metadata": {},
   "outputs": [
    {
     "name": "stdout",
     "output_type": "stream",
     "text": [
      "<class 'pandas.core.frame.DataFrame'>\n",
      "RangeIndex: 300 entries, 0 to 299\n",
      "Data columns (total 26 columns):\n",
      " #   Column                                  Non-Null Count  Dtype \n",
      "---  ------                                  --------------  ----- \n",
      " 0   Age                                     300 non-null    int64 \n",
      " 1   Sex                                     300 non-null    int64 \n",
      " 2   wearables                               300 non-null    int64 \n",
      " 3   Duration                                300 non-null    int64 \n",
      " 4   onlineplatforms                         300 non-null    int64 \n",
      " 5   Nature                                  300 non-null    int64 \n",
      " 6   screenillumination                      300 non-null    int64 \n",
      " 7   workingyears                            300 non-null    int64 \n",
      " 8   hoursspentdailycurricular               300 non-null    int64 \n",
      " 9   hoursspentdailynoncurricular            300 non-null    int64 \n",
      " 10  Gadgetsused                             300 non-null    int64 \n",
      " 11  levelofgadjetwithrespecttoeyes          300 non-null    int64 \n",
      " 12  Distancekeptbetweeneyesandgadjet        300 non-null    int64 \n",
      " 13  Avgnighttimeusageperday                 300 non-null    int64 \n",
      " 14  Blinkingduringscreenusage               300 non-null    int64 \n",
      " 15  Difficultyinfocusingafterusingscreens   300 non-null    int64 \n",
      " 16  freqquencyofcomplaints                  300 non-null    int64 \n",
      " 17  Severityofcomplaints                    300 non-null    int64 \n",
      " 18  Ocularsymptomsobservedlately            300 non-null    int64 \n",
      " 19  Symptomsobservingatleasthalfofthetimes  300 non-null    int64 \n",
      " 20  Complaintsfrequency                     300 non-null    int64 \n",
      " 21  frequencyofdryeyes                      300 non-null    int64 \n",
      " 22  Schimers1Lefteye_1                      300 non-null    object\n",
      " 23  Schimers1righteye_1                     300 non-null    object\n",
      " 24  Schimers2Lefteye_1                      300 non-null    object\n",
      " 25  Schimers2righteye_1                     300 non-null    object\n",
      "dtypes: int64(22), object(4)\n",
      "memory usage: 61.1+ KB\n"
     ]
    }
   ],
   "source": [
    "df=pd.read_excel(\"C://Users//saira//OneDrive//Desktop//DigitalEye//dgclean.xlsx\")\n",
    "df.info()"
   ]
  },
  {
   "cell_type": "code",
   "execution_count": 21,
   "id": "7ac08b56",
   "metadata": {},
   "outputs": [],
   "source": [
    "X = df.drop(['Schimers1Lefteye_1', 'Schimers1righteye_1', 'Schimers2Lefteye_1', 'Schimers2righteye_1','onlineplatforms', 'Sex', 'Distancekeptbetweeneyesandgadjet', 'levelofgadjetwithrespecttoeyes', 'Duration', \n",
    "             'Difficultyinfocusingafterusingscreens', 'frequencyofdryeyes','screenillumination'\n",
    "], axis=1)\n",
    "# X = df[['Severityofcomplaints','freqquencyofcomplaints','Age','Ocularsymptomsobservedlately','hoursspentdailynoncurricular','Complaintsfrequency']]\n",
    "y1 = df['Schimers1Lefteye_1'] \n",
    "y2 = df['Schimers1righteye_1'] \n",
    "y3 = df['Schimers2Lefteye_1'] \n",
    "y4 = df['Schimers2righteye_1'] \n",
    "# Encode categorical variables if needed\n",
    "# For example, if any other columns contain non-numeric data\n",
    "# encoder = LabelEncoder()\n",
    "# data['SomeColumn'] = encoder.fit_transform(data['SomeColumn'])\n",
    "\n",
    "\n",
    "\n",
    "# Train-test split\n",
    "X_train1, X_test1, y_train1, y_test1 = train_test_split(X, y1, test_size=0.2, random_state=42)\n",
    "X_train2, X_test2, y_train2, y_test2= train_test_split(X, y2, test_size=0.2, random_state=42)\n",
    "X_train3, X_test3, y_train3, y_test3 = train_test_split(X, y3, test_size=0.2, random_state=42)\n",
    "X_train4, X_test4, y_train4, y_test4 = train_test_split(X, y4, test_size=0.2, random_state=42)\n",
    "\n",
    "\n",
    "# Initialize decision tree classifier\n",
    "clf1 = DecisionTreeClassifier(random_state=42)\n",
    "clf2 = DecisionTreeClassifier(random_state=42)\n",
    "clf3 = DecisionTreeClassifier(random_state=42)\n",
    "clf4 = DecisionTreeClassifier(random_state=42)\n",
    "\n",
    "# Train the classifier\n",
    "clf1.fit(X_train1, y_train1)\n",
    "clf2.fit(X_train2, y_train2)\n",
    "clf3.fit(X_train3, y_train3)\n",
    "clf4.fit(X_train4, y_train4)\n",
    "\n",
    "# Make predictions\n",
    "y_pred1 = clf1.predict(X_test1)\n",
    "y_pred2 = clf2.predict(X_test2)\n",
    "y_pred3 = clf3.predict(X_test3)\n",
    "y_pred4 = clf4.predict(X_test4)\n",
    "\n",
    "# Evaluate the model\n",
    "accuracy1 = accuracy_score(y_test1, y_pred1)\n",
    "accuracy2 = accuracy_score(y_test2, y_pred2)\n",
    "accuracy3 = accuracy_score(y_test3, y_pred3)\n",
    "accuracy4 = accuracy_score(y_test4, y_pred4)"
   ]
  },
  {
   "cell_type": "code",
   "execution_count": 22,
   "id": "10564ca0",
   "metadata": {},
   "outputs": [
    {
     "name": "stdout",
     "output_type": "stream",
     "text": [
      "Predictions from clf1: ['Normal' 'Mildly Dry Eyes' 'Normal' 'Mildly Dry Eyes' 'Normal'\n",
      " 'Severe Dry Eyes' 'Severe Dry Eyes' 'Normal' 'Normal']\n",
      "Predictions from clf2: ['Normal' 'Normal' 'Normal' 'Normal' 'Normal' 'Severe Dry Eyes'\n",
      " 'Moderately Dry Eyes' 'Normal' 'Normal']\n",
      "Predictions from clf3: ['Normal' 'Normal' 'Normal' 'Normal' 'Normal' 'Mildly Dry Eyes'\n",
      " 'Mildly Dry Eyes' 'Normal' 'Normal']\n",
      "Predictions from clf4: ['Normal' 'Normal' 'Normal' 'Normal' 'Normal' 'Moderately Dry Eyes'\n",
      " 'Moderately Dry Eyes' 'Normal' 'Normal']\n"
     ]
    }
   ],
   "source": [
    "# Assuming your validation data is stored in a CSV file called 'validation_data.csv'\n",
    "validation_df =pd.read_excel(\"C://Users//saira//OneDrive//Desktop//\\DigitalEye//valid.xlsx\")\n",
    "\n",
    "# Drop columns similar to the ones you dropped for training data\n",
    "X_validation = validation_df.drop(['Name','onlineplatforms', 'Sex', 'Distancekeptbetweeneyesandgadjet', 'levelofgadjetwithrespecttoeyes', \n",
    "                                   'Duration', 'Difficultyinfocusingafterusingscreens', 'frequencyofdryeyes','screenillumination'], \n",
    "                                  axis=1)\n",
    "\n",
    "# Make predictions on validation data\n",
    "validation_pred1 = clf1.predict(X_validation)\n",
    "validation_pred2 = clf2.predict(X_validation)\n",
    "validation_pred3 = clf3.predict(X_validation)\n",
    "validation_pred4 = clf4.predict(X_validation)\n",
    "print(\"Predictions from clf1:\", validation_pred1)\n",
    "print(\"Predictions from clf2:\", validation_pred2)\n",
    "print(\"Predictions from clf3:\", validation_pred3)\n",
    "print(\"Predictions from clf4:\", validation_pred4)\n",
    "\n",
    "\n",
    "# You'll have arrays of predictions for each model (validation_pred1, validation_pred2, validation_pred3, validation_pred4)\n",
    "# You can use these predictions as needed for your application\n"
   ]
  },
  {
   "cell_type": "code",
   "execution_count": null,
   "id": "7c8d4c26",
   "metadata": {},
   "outputs": [],
   "source": [
    "df.info()"
   ]
  },
  {
   "cell_type": "code",
   "execution_count": null,
   "id": "0d4cc7b0",
   "metadata": {},
   "outputs": [],
   "source": [
    "df.columns"
   ]
  }
 ],
 "metadata": {
  "kernelspec": {
   "display_name": "Python 3 (ipykernel)",
   "language": "python",
   "name": "python3"
  },
  "language_info": {
   "codemirror_mode": {
    "name": "ipython",
    "version": 3
   },
   "file_extension": ".py",
   "mimetype": "text/x-python",
   "name": "python",
   "nbconvert_exporter": "python",
   "pygments_lexer": "ipython3",
   "version": "3.11.5"
  }
 },
 "nbformat": 4,
 "nbformat_minor": 5
}
